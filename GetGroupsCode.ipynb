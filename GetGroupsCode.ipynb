{
 "cells": [
  {
   "cell_type": "code",
   "execution_count": 1,
   "metadata": {},
   "outputs": [],
   "source": [
    "import os, json, sys"
   ]
  },
  {
   "cell_type": "code",
   "execution_count": 2,
   "metadata": {},
   "outputs": [],
   "source": [
    "people_map = {}\n",
    "day_map = {}\n",
    "day_group_map = {}\n",
    "people_to_assign = []\n",
    "groups = []"
   ]
  },
  {
   "cell_type": "code",
   "execution_count": 3,
   "metadata": {},
   "outputs": [],
   "source": [
    "dir_path = '/Users/conniexu/Documents/i3Hackathon/sample_student_responses'\n",
    "for file in os.listdir(dir_path):\n",
    "    file_path = f\"{dir_path}/{file}\"\n",
    "    with open(file_path) as json_file:\n",
    "        data = json.load(json_file)\n",
    "        people_to_assign.append(data['full_name'])\n",
    "        people_map[data['full_name']] = data"
   ]
  },
  {
   "cell_type": "code",
   "execution_count": 4,
   "metadata": {},
   "outputs": [
    {
     "data": {
      "text/plain": [
       "{'Connie Xu': {'full_name': 'Connie Xu',\n",
       "  'available_day': ['4-4-2021', '4-5-2021', '4-6-2021', '4-7-2021'],\n",
       "  'group_size': 4,\n",
       "  'comfort_with_material': 5,\n",
       "  'focus_scale': 9,\n",
       "  'comfort_with_helping': 8},\n",
       " 'Sophie Li': {'full_name': 'Sophie Li',\n",
       "  'available_day': ['4-6-2021', '4-7-2021', '4-8-2021'],\n",
       "  'group_size': 4,\n",
       "  'comfort_with_material': 5,\n",
       "  'focus_scale': 1,\n",
       "  'comfort_with_helping': 10},\n",
       " 'Allen Park': {'full_name': 'Allen Park',\n",
       "  'available_day': ['4-6-2021', '4-7-2021'],\n",
       "  'group_size': 3,\n",
       "  'comfort_with_material': 5,\n",
       "  'focus_scale': 2,\n",
       "  'comfort_with_helping': 3},\n",
       " 'Sachiko Datta': {'full_name': 'Sachiko Datta',\n",
       "  'available_day': ['4-5-2021', '4-7-2021'],\n",
       "  'group_size': 7,\n",
       "  'comfort_with_material': 7,\n",
       "  'focus_scale': 9,\n",
       "  'comfort_with_helping': 8},\n",
       " 'Chris Eisgruber': {'full_name': 'Chris Eisgruber',\n",
       "  'available_day': ['4-5-2021', '4-6-2021', '4-7-2021'],\n",
       "  'group_size': 4,\n",
       "  'comfort_with_material': 5,\n",
       "  'focus_scale': 2,\n",
       "  'comfort_with_helping': 3},\n",
       " 'Peter Bolgucki': {'full_name': 'Peter Bolgucki',\n",
       "  'available_day': ['4-5-2021'],\n",
       "  'group_size': 3,\n",
       "  'comfort_with_material': 5,\n",
       "  'focus_scale': 10,\n",
       "  'comfort_with_helping': 3},\n",
       " 'Dara Oseyemi': {'full_name': 'Dara Oseyemi',\n",
       "  'available_day': ['4-4-2021', '4-6-2021', '4-8-2021'],\n",
       "  'group_size': 3,\n",
       "  'comfort_with_material': 9,\n",
       "  'focus_scale': 2,\n",
       "  'comfort_with_helping': 3}}"
      ]
     },
     "execution_count": 4,
     "metadata": {},
     "output_type": "execute_result"
    }
   ],
   "source": [
    "people_map"
   ]
  },
  {
   "cell_type": "code",
   "execution_count": 5,
   "metadata": {},
   "outputs": [],
   "source": [
    "for person, info in people_map.items():\n",
    "    for day in info['available_day']: \n",
    "        if day in day_map and person not in day_map[day]:\n",
    "            day_map[day].append(person)\n",
    "        else:\n",
    "            day_map[day] = [person]"
   ]
  },
  {
   "cell_type": "code",
   "execution_count": 6,
   "metadata": {},
   "outputs": [],
   "source": [
    "for day, people in day_map.items():\n",
    "    for person in people:\n",
    "        group_size = people_map[person]['group_size']\n",
    "        if day in day_group_map:\n",
    "            if group_size in day_group_map[day] and person not in day_group_map[day][group_size]:\n",
    "                day_group_map[day][group_size].append(person)\n",
    "            else: \n",
    "                day_group_map[day][group_size] = [person]\n",
    "        else:\n",
    "            day_group_map[day] = {group_size: [person]}"
   ]
  },
  {
   "cell_type": "code",
   "execution_count": 7,
   "metadata": {},
   "outputs": [
    {
     "data": {
      "text/plain": [
       "{'4-4-2021': {4: ['Connie Xu'], 3: ['Dara Oseyemi']},\n",
       " '4-5-2021': {4: ['Connie Xu', 'Chris Eisgruber'],\n",
       "  7: ['Sachiko Datta'],\n",
       "  3: ['Peter Bolgucki']},\n",
       " '4-6-2021': {4: ['Connie Xu', 'Sophie Li', 'Chris Eisgruber'],\n",
       "  3: ['Allen Park', 'Dara Oseyemi']},\n",
       " '4-7-2021': {4: ['Connie Xu', 'Sophie Li', 'Chris Eisgruber'],\n",
       "  3: ['Allen Park'],\n",
       "  7: ['Sachiko Datta']},\n",
       " '4-8-2021': {4: ['Sophie Li'], 3: ['Dara Oseyemi']}}"
      ]
     },
     "execution_count": 7,
     "metadata": {},
     "output_type": "execute_result"
    }
   ],
   "source": [
    "day_group_map"
   ]
  },
  {
   "cell_type": "code",
   "execution_count": 8,
   "metadata": {},
   "outputs": [],
   "source": [
    "def analyze_characteristics(people_map, people):\n",
    "    print('analyze chars')"
   ]
  },
  {
   "cell_type": "code",
   "execution_count": 9,
   "metadata": {},
   "outputs": [],
   "source": [
    "# random prime numbers for hashing\n",
    "def combine_adjacent(people_map, group_data, date=False):\n",
    "    if not len(group_data) <= 1:\n",
    "        min_diff = sys.maxsize\n",
    "        values_to_combine = []\n",
    "        date_hash = {}\n",
    "\n",
    "        group_data_keys = group_data.keys()\n",
    "\n",
    "        if date:\n",
    "            hashed_group_data = []\n",
    "            for day in group_data:\n",
    "                day_data = day.split('-')\n",
    "                hash_code = day_data[0] * 31 + day_data[1] * 13 + day_data[2] * 733\n",
    "                date_hash[hash_code] = day\n",
    "            group_data_keys = hashed_group_data\n",
    "\n",
    "        # combine closest groups\n",
    "        sorted_group_data = sorted(group_data_keys)\n",
    "        for i in range(len(sorted_group_data) - 1):\n",
    "            diff = sorted_group_data[i + 1] - sorted_group_data[i]\n",
    "            if diff < min_diff and not group_data[sorted_group_data[i + 1]] == group_data[sorted_group_data[i]]:\n",
    "                min_diff = diff\n",
    "                values_to_combine = [sorted_group_data[i], sorted_group_data[i + 1]]\n",
    "        \n",
    "        if not len(values_to_combine) == 0:\n",
    "            if date:\n",
    "                group_data[date_hash[values_to_combine[0]]] = group_data[date_hash[values_to_combine[0]]] + group_data[date_hash[values_to_combine[1]]]\n",
    "            else:\n",
    "                group_data[values_to_combine[0]] = list(set(group_data[values_to_combine[0]] + group_data[values_to_combine[1]]))\n",
    "                group_data[values_to_combine[1]] = list(set(group_data[values_to_combine[0]] + group_data[values_to_combine[1]]))\n"
   ]
  },
  {
   "cell_type": "code",
   "execution_count": 10,
   "metadata": {},
   "outputs": [],
   "source": [
    "def update_day_group_map(day_group_map, people_to_assign):\n",
    "    print(day_group_map)\n",
    "    for day, group_data in day_group_map.items():\n",
    "        for group in group_data.values():\n",
    "            i = 0\n",
    "            while i < len(group):\n",
    "                person = group[i]\n",
    "                if person not in people_to_assign:\n",
    "                    group.remove(person)\n",
    "                else:\n",
    "                    i += 1"
   ]
  },
  {
   "cell_type": "code",
   "execution_count": 11,
   "metadata": {},
   "outputs": [],
   "source": [
    "def assign_remainder(people_to_assign):\n",
    "    if len(people_to_assign) <= 2 and len(people_to_assign) > 0:\n",
    "        people_to_add = []\n",
    "        for i in range(len(people_to_assign)):\n",
    "            people_to_add.append(people_to_assign[i])\n",
    "        groups.append(people_to_add)\n",
    "        people_to_assign = []\n",
    "        return people_to_assign"
   ]
  },
  {
   "cell_type": "code",
   "execution_count": 12,
   "metadata": {},
   "outputs": [
    {
     "name": "stdout",
     "output_type": "stream",
     "text": [
      "{'4-4-2021': {4: ['Dara Oseyemi', 'Connie Xu'], 3: ['Dara Oseyemi', 'Connie Xu']}, '4-5-2021': {4: ['Peter Bolgucki', 'Connie Xu', 'Chris Eisgruber'], 7: ['Sachiko Datta'], 3: ['Chris Eisgruber', 'Peter Bolgucki', 'Connie Xu']}, '4-6-2021': {4: ['Connie Xu', 'Sophie Li', 'Chris Eisgruber'], 3: ['Allen Park', 'Dara Oseyemi']}, '4-7-2021': {4: ['Connie Xu', 'Sophie Li', 'Chris Eisgruber'], 3: ['Allen Park'], 7: ['Sachiko Datta']}, '4-8-2021': {4: ['Sophie Li'], 3: ['Dara Oseyemi']}}\n",
      "{'4-4-2021': {4: ['Dara Oseyemi'], 3: ['Dara Oseyemi']}, '4-5-2021': {4: ['Peter Bolgucki'], 7: ['Sachiko Datta'], 3: ['Peter Bolgucki']}, '4-6-2021': {4: [], 3: ['Allen Park', 'Dara Oseyemi']}, '4-7-2021': {4: [], 3: ['Allen Park'], 7: ['Sachiko Datta']}, '4-8-2021': {4: [], 3: ['Dara Oseyemi']}}\n"
     ]
    }
   ],
   "source": [
    "tolerance = 0\n",
    "# check whether groups can be filled\n",
    "modifications = 1\n",
    "while modifications > 0:\n",
    "    modifications = 0\n",
    "    for day, group_data in day_group_map.items():\n",
    "        sorted_group_data = sorted(group_data.keys(), reverse=True)\n",
    "        combined = False\n",
    "        for i in range(0, len(sorted_group_data)):\n",
    "            group_size = sorted_group_data[i]\n",
    "            people = group_data[group_size]\n",
    "            num_people = 0\n",
    "            for person in people:\n",
    "                if person in people_to_assign:\n",
    "                    num_people += 1\n",
    "            if abs(num_people - group_size) <= tolerance and num_people > 1:\n",
    "                modifications += 1\n",
    "                people_to_add = []\n",
    "                for i in range(len(people)):\n",
    "                    people_to_add.append(people[i])\n",
    "                groups.append(people_to_add)\n",
    "                for person in people:\n",
    "                    if person in people_to_assign:\n",
    "                        people_to_assign.remove(person)\n",
    "                update_day_group_map(day_group_map, people_to_assign)\n",
    "        for i in range(0, len(sorted_group_data)):\n",
    "            group_size = sorted_group_data[i]\n",
    "            people = group_data[group_size]\n",
    "            num_people = 0\n",
    "            for person in people:\n",
    "                if person in people_to_assign:\n",
    "                    num_people += 1\n",
    "            if num_people > group_size:\n",
    "                analyze_characteristics(people_map, people)\n",
    "            elif num_people < group_size and not combined:\n",
    "                combine_adjacent(people_map, group_data)\n",
    "                combined = True\n",
    "        if modifications == 0 and len(people_to_assign) > 2:\n",
    "            tolerance += 1\n",
    "            modifications = 1\n",
    "        if len(people_to_assign) <= 2 and len(people_to_assign) > 0:\n",
    "            people_to_add = []\n",
    "            for i in range(len(people_to_assign)):\n",
    "                people_to_add.append(people_to_assign[i])\n",
    "            groups.append(people_to_add)\n",
    "            people_to_assign = []\n",
    "# remove people from the queue\n",
    "# if too many people in group, go to next step of analysis\n",
    "# if too little people in group, work on combining with adjacent people - same day wise"
   ]
  },
  {
   "cell_type": "code",
   "execution_count": 13,
   "metadata": {},
   "outputs": [
    {
     "data": {
      "text/plain": [
       "[['Connie Xu', 'Sophie Li', 'Chris Eisgruber'],\n",
       " ['Allen Park', 'Dara Oseyemi'],\n",
       " ['Sachiko Datta', 'Peter Bolgucki']]"
      ]
     },
     "execution_count": 13,
     "metadata": {},
     "output_type": "execute_result"
    }
   ],
   "source": [
    "groups"
   ]
  },
  {
   "cell_type": "code",
   "execution_count": 14,
   "metadata": {},
   "outputs": [
    {
     "data": {
      "text/plain": [
       "[]"
      ]
     },
     "execution_count": 14,
     "metadata": {},
     "output_type": "execute_result"
    }
   ],
   "source": [
    "people_to_assign"
   ]
  },
  {
   "cell_type": "code",
   "execution_count": 15,
   "metadata": {},
   "outputs": [
    {
     "data": {
      "text/plain": [
       "'{\"4-4-2021\": {4: [\"Dara Oseyemi\", \"Connie Xu\"], 3: [\"Dara Oseyemi\", \"Connie Xu\"]}, \"4-5-2021\": {4: [\"Peter Bolgucki\", \"Connie Xu\", \"Chris Eisgruber\"], 7: [\"Sachiko Datta\"], 3: [\"Chris Eisgruber\", \"Peter Bolgucki\", \"Connie Xu\"]}, \"4-6-2021\": {4: [\"Connie Xu\", \"Sophie Li\", \"Chris Eisgruber\"], 3: [\"Allen Park\", \"Dara Oseyemi\"]}, \"4-7-2021\": {4: [\"Connie Xu\", \"Sophie Li\", \"Chris Eisgruber\"], 3: [\"Allen Park\"], 7: [\"Sachiko Datta\"]}, \"4-8-2021\": {4: [\"Sophie Li\"], 3: [\"Dara Oseyemi\"]}}'"
      ]
     },
     "execution_count": 15,
     "metadata": {},
     "output_type": "execute_result"
    }
   ],
   "source": [
    "s1 = \"{'4-4-2021': {4: ['Dara Oseyemi', 'Connie Xu'], 3: ['Dara Oseyemi', 'Connie Xu']}, '4-5-2021': {4: ['Peter Bolgucki', 'Connie Xu', 'Chris Eisgruber'], 7: ['Sachiko Datta'], 3: ['Chris Eisgruber', 'Peter Bolgucki', 'Connie Xu']}, '4-6-2021': {4: ['Connie Xu', 'Sophie Li', 'Chris Eisgruber'], 3: ['Allen Park', 'Dara Oseyemi']}, '4-7-2021': {4: ['Connie Xu', 'Sophie Li', 'Chris Eisgruber'], 3: ['Allen Park'], 7: ['Sachiko Datta']}, '4-8-2021': {4: ['Sophie Li'], 3: ['Dara Oseyemi']}}\"\n",
    "s1.replace(\"'\", \"\\\"\")"
   ]
  },
  {
   "cell_type": "code",
   "execution_count": null,
   "metadata": {},
   "outputs": [],
   "source": []
  }
 ],
 "metadata": {
  "kernelspec": {
   "display_name": "Python 3",
   "language": "python",
   "name": "python3"
  },
  "language_info": {
   "codemirror_mode": {
    "name": "ipython",
    "version": 3
   },
   "file_extension": ".py",
   "mimetype": "text/x-python",
   "name": "python",
   "nbconvert_exporter": "python",
   "pygments_lexer": "ipython3",
   "version": "3.7.6"
  }
 },
 "nbformat": 4,
 "nbformat_minor": 4
}
